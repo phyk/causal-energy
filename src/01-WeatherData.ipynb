{
 "cells": [
  {
   "cell_type": "code",
   "execution_count": 1,
   "metadata": {},
   "outputs": [],
   "source": [
    "import os\n",
    "from datetime import datetime\n",
    "\n",
    "import holidays\n",
    "import pandas as pd\n",
    "import requests\n",
    "import tqdm\n",
    "from bs4 import BeautifulSoup"
   ]
  },
  {
   "cell_type": "code",
   "execution_count": 5,
   "metadata": {},
   "outputs": [],
   "source": [
    "data_path = \"../data\"\n",
    "folder_path = \"../data/hdd\""
   ]
  },
  {
   "cell_type": "code",
   "execution_count": 2,
   "metadata": {},
   "outputs": [
    {
     "name": "stderr",
     "output_type": "stream",
     "text": [
      "100%|██████████| 78/78 [00:07<00:00, 10.64it/s]\n"
     ]
    }
   ],
   "source": [
    "# Download the latest heating degree day data from the DWD FTP server\n",
    "url = \"https://opendata.dwd.de/climate_environment/CDC/derived_germany/techn/daily/heating_degreedays/hdd_3807/recent/\"\n",
    "response = requests.get(url)\n",
    "\n",
    "# Check if the request was successful\n",
    "if response.status_code == 200:\n",
    "    # Use BeautifulSoup to parse the HTML content\n",
    "    soup = BeautifulSoup(response.content, \"html.parser\")\n",
    "\n",
    "    if not os.path.exists(folder_path):\n",
    "        os.makedirs(folder_path)\n",
    "\n",
    "    # Iterate through the links in the HTML\n",
    "    for link in tqdm.tqdm(soup.find_all(\"a\")):\n",
    "        file_name = link.get(\"href\")\n",
    "        if file_name.endswith(\".csv\"):\n",
    "            # Download the CSV file and save it in the output directory\n",
    "            file_response = requests.get(url + file_name)\n",
    "            with open(os.path.join(folder_path, file_name), \"wb\") as output_file:\n",
    "                output_file.write(file_response.content)\n",
    "else:\n",
    "    print(f\"Error: {response.status_code}\")"
   ]
  },
  {
   "cell_type": "code",
   "execution_count": 6,
   "metadata": {},
   "outputs": [],
   "source": [
    "# List all files in the folder\n",
    "files = os.listdir(folder_path)\n",
    "\n",
    "# Initialize an empty list to store the results\n",
    "results = []\n",
    "# Iterate through the files and read the CSVs\n",
    "for file in files:\n",
    "    if file.endswith(\".csv\"):\n",
    "        file_path = os.path.join(folder_path, file)\n",
    "        df = pd.read_csv(file_path, sep=\";\", skiprows=3)\n",
    "\n",
    "        year = int(file[-10:-6])\n",
    "        month = int(file[-6:-4])\n",
    "\n",
    "        daily_average = df.iloc[:, 4:].mean()\n",
    "        days_in_month = len(daily_average)\n",
    "        dates = pd.date_range(datetime(year, month, 1), periods=days_in_month)\n",
    "\n",
    "        df_result = pd.DataFrame({\"Date\": dates, \"Average_HDD\": daily_average})\n",
    "        results.append(df_result)\n",
    "\n",
    "# Concatenate the results into a single DataFrame\n",
    "results_df = pd.concat(results)\n",
    "results_df = results_df.sort_values(\"Date\")\n",
    "results_df = results_df.reset_index(drop=True)\n",
    "results_df.to_csv(f\"{data_path}/average_hdd_data.csv\", index=False)"
   ]
  },
  {
   "cell_type": "code",
   "execution_count": 7,
   "metadata": {},
   "outputs": [],
   "source": [
    "def is_weekend_or_holiday(date_str):\n",
    "    date_obj = pd.to_datetime(date_str)\n",
    "    if date_obj.weekday() >= 5:\n",
    "        return 1\n",
    "    de_holidays = holidays.Germany(years=date_obj.year)\n",
    "    if date_obj in de_holidays:\n",
    "        return 1\n",
    "    return 0\n",
    "\n",
    "\n",
    "# Read the CSV into a DataFrame\n",
    "main_data_source = f\"{data_path}/daily_NGD.csv\"\n",
    "df = pd.read_csv(main_data_source)\n",
    "\n",
    "df[\"Is_Weekend_or_Holiday\"] = df[\"Date\"].apply(is_weekend_or_holiday)\n",
    "\n",
    "df.to_csv(main_data_source, index=False)"
   ]
  }
 ],
 "metadata": {
  "kernelspec": {
   "display_name": "Python 3 (ipykernel)",
   "language": "python",
   "name": "python3"
  },
  "language_info": {
   "codemirror_mode": {
    "name": "ipython",
    "version": 3
   },
   "file_extension": ".py",
   "mimetype": "text/x-python",
   "name": "python",
   "nbconvert_exporter": "python",
   "pygments_lexer": "ipython3",
   "version": "3.12.2"
  },
  "orig_nbformat": 4
 },
 "nbformat": 4,
 "nbformat_minor": 2
}
